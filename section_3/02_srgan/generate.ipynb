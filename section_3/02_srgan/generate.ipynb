{
 "cells": [
  {
   "cell_type": "code",
   "execution_count": 1,
   "metadata": {},
   "outputs": [],
   "source": [
    "import sugartensor as tf\n",
    "import matplotlib.pyplot as plt"
   ]
  },
  {
   "cell_type": "code",
   "execution_count": 2,
   "metadata": {},
   "outputs": [],
   "source": [
    "# set log level to debug\n",
    "tf.sg_verbosity(10)"
   ]
  },
  {
   "cell_type": "code",
   "execution_count": 3,
   "metadata": {},
   "outputs": [],
   "source": [
    "# hyper parameters\n",
    "batch_size = 30   # batch size"
   ]
  },
  {
   "cell_type": "code",
   "execution_count": 4,
   "metadata": {},
   "outputs": [
    {
     "name": "stdout",
     "output_type": "stream",
     "text": [
      "Extracting ./asset/data/mnist/train-images-idx3-ubyte.gz\n",
      "Extracting ./asset/data/mnist/train-labels-idx1-ubyte.gz\n",
      "Extracting ./asset/data/mnist/t10k-images-idx3-ubyte.gz\n",
      "Extracting ./asset/data/mnist/t10k-labels-idx1-ubyte.gz\n"
     ]
    }
   ],
   "source": [
    "# inputs\n",
    "data = tf.sg_data.Mnist(batch_size=batch_size)"
   ]
  },
  {
   "cell_type": "code",
   "execution_count": 5,
   "metadata": {},
   "outputs": [],
   "source": [
    "# input images\n",
    "x = data.train.image"
   ]
  },
  {
   "cell_type": "code",
   "execution_count": 6,
   "metadata": {},
   "outputs": [],
   "source": [
    "# corrupted image\n",
    "x_small = tf.image.resize_bicubic(x, (14, 14))\n",
    "x_bicubic = tf.image.resize_bicubic(x_small, (28, 28)).sg_squeeze()\n",
    "x_nearest = tf.image.resize_images(x_small, (28, 28), tf.image.ResizeMethod.NEAREST_NEIGHBOR).sg_squeeze()"
   ]
  },
  {
   "cell_type": "code",
   "execution_count": 7,
   "metadata": {},
   "outputs": [],
   "source": [
    "# generator network\n",
    "with tf.sg_context(name='generator', act='relu', bn=True):\n",
    "    gen = (x_small\n",
    "           .sg_conv(dim=32)\n",
    "           .sg_conv()\n",
    "           .sg_conv(dim=4, act='sigmoid', bn=False)\n",
    "           .sg_periodic_shuffle(factor=2)\n",
    "           .sg_squeeze())"
   ]
  },
  {
   "cell_type": "code",
   "execution_count": 16,
   "metadata": {},
   "outputs": [
    {
     "name": "stdout",
     "output_type": "stream",
     "text": [
      "INFO:tensorflow:Restoring parameters from asset/train/model.ckpt-34592\n"
     ]
    },
    {
     "name": "stderr",
     "output_type": "stream",
     "text": [
      "I 0325:22:05:23.679:<ipython-input-16-55b47a823ca3>:28] Sample image saved to \"asset/train/sample.png\"\n"
     ]
    }
   ],
   "source": [
    "# run generator\n",
    "fig_name = 'asset/train/sample.png'\n",
    "with tf.Session() as sess:\n",
    "    with tf.sg_queue_context(sess):\n",
    "        tf.sg_init(sess)\n",
    "\n",
    "        # restore parameters\n",
    "        saver = tf.train.Saver()\n",
    "        saver.restore(sess, tf.train.latest_checkpoint('asset/train'))\n",
    "\n",
    "        # run generator\n",
    "        gt, low, bicubic, sr = sess.run([x.sg_squeeze(), x_nearest, x_bicubic, gen])\n",
    "\n",
    "        # plot result\n",
    "        _, ax = plt.subplots(10, 12, sharex=True, sharey=True)\n",
    "        for i in range(10):\n",
    "            for j in range(3):\n",
    "                ax[i][j*4].imshow(low[i*3+j], 'gray')\n",
    "                ax[i][j*4].set_axis_off()\n",
    "                ax[i][j*4+1].imshow(bicubic[i*3+j], 'gray')\n",
    "                ax[i][j*4+1].set_axis_off()\n",
    "                ax[i][j*4+2].imshow(sr[i*3+j], 'gray')\n",
    "                ax[i][j*4+2].set_axis_off()\n",
    "                ax[i][j*4+3].imshow(gt[i*3+j], 'gray')\n",
    "                ax[i][j*4+3].set_axis_off()\n",
    "\n",
    "        plt.savefig(fig_name, dpi=600)\n",
    "        tf.sg_info('Sample image saved to \"%s\"' % fig_name)\n",
    "        plt.close()"
   ]
  },
  {
   "cell_type": "code",
   "execution_count": null,
   "metadata": {},
   "outputs": [],
   "source": []
  }
 ],
 "metadata": {
  "kernelspec": {
   "display_name": "Python 2",
   "language": "python",
   "name": "python2"
  },
  "language_info": {
   "codemirror_mode": {
    "name": "ipython",
    "version": 2
   },
   "file_extension": ".py",
   "mimetype": "text/x-python",
   "name": "python",
   "nbconvert_exporter": "python",
   "pygments_lexer": "ipython2",
   "version": "2.7.14"
  }
 },
 "nbformat": 4,
 "nbformat_minor": 2
}
